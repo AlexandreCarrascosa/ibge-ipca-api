{
 "cells": [
  {
   "cell_type": "code",
   "execution_count": 2,
   "id": "f125bb33-6455-4df6-8622-e8e7cfffa475",
   "metadata": {},
   "outputs": [],
   "source": [
    "import requests\n",
    "import json\n",
    "import datetime\n",
    "import pandas as pd"
   ]
  },
  {
   "cell_type": "code",
   "execution_count": 67,
   "id": "f7b8299c-4964-4bf2-8380-dcbb9a22044f",
   "metadata": {},
   "outputs": [],
   "source": [
    "def getIPCA(*meses):\n",
    "    \n",
    "    datas = [str(mes) for mes in meses]\n",
    "    datas = '|'.join(datas)\n",
    "        \n",
    "    api_url = f'https://servicodados.ibge.gov.br/api/v3/agregados/6691/periodos/{datas}/variaveis/63?localidades=N1[all]'\n",
    "    req = requests.get(api_url).json()\n",
    "    \n",
    "    values = req[0]['resultados'][0]['series'][0]['serie']\n",
    "    \n",
    "    return values"
   ]
  },
  {
   "cell_type": "code",
   "execution_count": 68,
   "id": "f2f2aea2-4a1e-4fb0-86ae-a397a0ec7c56",
   "metadata": {},
   "outputs": [],
   "source": [
    "test = getIPCA(202201, 202202, 202203, 202204, 202205)"
   ]
  },
  {
   "cell_type": "code",
   "execution_count": 78,
   "id": "29e5e56d-5e4c-48f9-87ba-a411557170a7",
   "metadata": {},
   "outputs": [
    {
     "data": {
      "text/html": [
       "<div>\n",
       "<style scoped>\n",
       "    .dataframe tbody tr th:only-of-type {\n",
       "        vertical-align: middle;\n",
       "    }\n",
       "\n",
       "    .dataframe tbody tr th {\n",
       "        vertical-align: top;\n",
       "    }\n",
       "\n",
       "    .dataframe thead th {\n",
       "        text-align: right;\n",
       "    }\n",
       "</style>\n",
       "<table border=\"1\" class=\"dataframe\">\n",
       "  <thead>\n",
       "    <tr style=\"text-align: right;\">\n",
       "      <th></th>\n",
       "      <th>DATA</th>\n",
       "      <th>IPCA</th>\n",
       "    </tr>\n",
       "  </thead>\n",
       "  <tbody>\n",
       "    <tr>\n",
       "      <th>0</th>\n",
       "      <td>202201</td>\n",
       "      <td>0.54</td>\n",
       "    </tr>\n",
       "    <tr>\n",
       "      <th>1</th>\n",
       "      <td>202202</td>\n",
       "      <td>1.01</td>\n",
       "    </tr>\n",
       "    <tr>\n",
       "      <th>2</th>\n",
       "      <td>202203</td>\n",
       "      <td>1.62</td>\n",
       "    </tr>\n",
       "    <tr>\n",
       "      <th>3</th>\n",
       "      <td>202204</td>\n",
       "      <td>1.06</td>\n",
       "    </tr>\n",
       "    <tr>\n",
       "      <th>4</th>\n",
       "      <td>202205</td>\n",
       "      <td>0.47</td>\n",
       "    </tr>\n",
       "  </tbody>\n",
       "</table>\n",
       "</div>"
      ],
      "text/plain": [
       "     DATA  IPCA\n",
       "0  202201  0.54\n",
       "1  202202  1.01\n",
       "2  202203  1.62\n",
       "3  202204  1.06\n",
       "4  202205  0.47"
      ]
     },
     "execution_count": 78,
     "metadata": {},
     "output_type": "execute_result"
    }
   ],
   "source": [
    "ipca_table = pd.DataFrame(test.items(), columns=['DATA', 'IPCA'])"
   ]
  },
  {
   "cell_type": "code",
   "execution_count": null,
   "id": "0dac1e77-cf47-4dc1-a6f0-629aa55acb9b",
   "metadata": {},
   "outputs": [],
   "source": []
  }
 ],
 "metadata": {
  "kernelspec": {
   "display_name": "Python 3 (ipykernel)",
   "language": "python",
   "name": "python3"
  },
  "language_info": {
   "codemirror_mode": {
    "name": "ipython",
    "version": 3
   },
   "file_extension": ".py",
   "mimetype": "text/x-python",
   "name": "python",
   "nbconvert_exporter": "python",
   "pygments_lexer": "ipython3",
   "version": "3.9.12"
  }
 },
 "nbformat": 4,
 "nbformat_minor": 5
}
